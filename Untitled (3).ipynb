{
 "cells": [
  {
   "cell_type": "markdown",
   "id": "203dc6a4-2b0a-4432-87b3-1c673e0b4b28",
   "metadata": {},
   "source": [
    "Chapter 9"
   ]
  },
  {
   "cell_type": "markdown",
   "id": "977ae2fe-f804-458e-aa48-1ad34e1c9ab0",
   "metadata": {},
   "source": [
    "Program Exercises 8"
   ]
  },
  {
   "cell_type": "markdown",
   "id": "2338a203-95f0-40d1-aff3-e292b95c3ca0",
   "metadata": {},
   "source": [
    "# 8. write a program that keeps names and email addresses in a dictionary as key-value pairs, the program should display a menu that lets the user look up a persons email address, add a new name and email address, change an existing email address, and delete an existing name and email address. the program should pickle the dictionary and save it to a file when the user exits the program. each time the program starts,it should retrieve the dictionary from the file and unpickle it."
   ]
  },
  {
   "cell_type": "code",
   "execution_count": 71,
   "id": "16c7bd79-a148-4b02-a347-c5c3a5b04c21",
   "metadata": {},
   "outputs": [
    {
     "name": "stdout",
     "output_type": "stream",
     "text": [
      "\n",
      "Menu:\n",
      "1. look up an email address\n",
      "2. add a new contact\n",
      "3. change an email address\n",
      "4. delete a contact\n",
      "5. exit\n"
     ]
    },
    {
     "name": "stdin",
     "output_type": "stream",
     "text": [
      "enter your choice (1/2/3/4/5):  2\n",
      "enter the name:  averi\n",
      "enter the email address:  coopea23@mail.lcc.edu\n"
     ]
    },
    {
     "name": "stdout",
     "output_type": "stream",
     "text": [
      "contact added.[\n"
     ]
    }
   ],
   "source": [
    "import pickle\n",
    "import os\n",
    "\n",
    "# empty dictionary to store names and email addresses\n",
    "contacts = {}\n",
    "\n",
    "# check if the pickle file exists and load the dictionary if it does\n",
    "if os.path.exists('contacts.pickle'):\n",
    "    with open('contacts.pickle', 'rb') as file:\n",
    "        contacts = pickle.load(file)\n",
    "\n",
    "def display_menu():\n",
    "    print('\\nMenu:')\n",
    "    print('1. look up an email address')\n",
    "    print('2. add a new contact')\n",
    "    print('3. change an email address')\n",
    "    print('4. delete a contact')\n",
    "    print('5. exit')\n",
    "    \n",
    "def lookup_email():\n",
    "    name = input('enter the name to look up: ')\n",
    "   \n",
    "    if name in contacts:\n",
    "        print(f'Email Address: {contacts[name]}')\n",
    "    else:\n",
    "        print('name not found.')\n",
    "\n",
    "# add contact\n",
    "def add_contact():\n",
    "    name = input('enter the name: ')\n",
    "    email = input('enter the email address: ')\n",
    "    contacts[name] = email\n",
    "    print('contact added.[')\n",
    "\n",
    "# change email\n",
    "def change_email():\n",
    "    name = input('enter the name to change email address: ')\n",
    "    if name in contacts:\n",
    "        email = input('enter the new email address: ')\n",
    "        contacts[name] = email\n",
    "        print('email address updated.')\n",
    "    else:\n",
    "        print('name not found.')\n",
    "\n",
    "# delete contact\n",
    "def delete_contact():\n",
    "    name = input('enter the name to delete: ')\n",
    "    if name in contacts:\n",
    "        del contacts[name]\n",
    "        print('contact deleted.')\n",
    "    else:\n",
    "        print('name not found.')\n",
    "\n",
    "# main function to start execution\n",
    "def main():\n",
    "    while True:\n",
    "        display_menu()\n",
    "        choice = input('enter your choice (1/2/3/4/5): ')\n",
    "\n",
    "        if choice == '1':\n",
    "            lookup_email()\n",
    "        elif choice == '2':\n",
    "            add_contact()\n",
    "        elif choice == '3':\n",
    "            change_email()\n",
    "        elif choice == '4':\n",
    "            delete_contact()\n",
    "        elif choice == '5':\n",
    "      \n",
    "       # save dictionary to a file and exit with open ('contacts.pickle', 'wb') as file: pickle.dump(contacts, file)\n",
    "          print('contacts saved. exiting program.')\n",
    "        \n",
    "        break\n",
    "    else:\n",
    "         print('invalid choice. please select valid option')\n",
    "         \n",
    "if __name__ == '__main__':\n",
    "    main()"
   ]
  },
  {
   "cell_type": "code",
   "execution_count": 71,
   "id": "d014e72c",
   "metadata": {},
   "outputs": [
    {
     "name": "stdout",
     "output_type": "stream",
     "text": [
      "\n",
      "Menu:\n",
      "1. look up an email address\n",
      "2. add a new contact\n",
      "3. change an email address\n",
      "4. delete a contact\n",
      "5. exit\n"
     ]
    },
    {
     "name": "stdin",
     "output_type": "stream",
     "text": [
      "enter your choice (1/2/3/4/5):  2\n",
      "enter the name:  averi\n",
      "enter the email address:  coopea23@mail.lcc.edu\n"
     ]
    },
    {
     "name": "stdout",
     "output_type": "stream",
     "text": [
      "contact added.[\n"
     ]
    }
   ],
   "source": [
    "import pickle\n",
    "import os\n",
    "\n",
    "# empty dictionary to store names and email addresses\n",
    "contacts = {}\n",
    "\n",
    "# check if the pickle file exists and load the dictionary if it does\n",
    "if os.path.exists('contacts.pickle'):\n",
    "    with open('contacts.pickle', 'rb') as file:\n",
    "        contacts = pickle.load(file)\n",
    "\n",
    "def display_menu():\n",
    "    print('\\nMenu:')\n",
    "    print('1. look up an email address')\n",
    "    print('2. add a new contact')\n",
    "    print('3. change an email address')\n",
    "    print('4. delete a contact')\n",
    "    print('5. exit')\n",
    "    \n",
    "def lookup_email():\n",
    "    name = input('enter the name to look up: ')\n",
    "   \n",
    "    if name in contacts:\n",
    "        print(f'Email Address: {contacts[name]}')\n",
    "    else:\n",
    "        print('name not found.')\n",
    "\n",
    "# add contact\n",
    "def add_contact():\n",
    "    name = input('enter the name: ')\n",
    "    email = input('enter the email address: ')\n",
    "    contacts[name] = email\n",
    "    print('contact added.[')\n",
    "\n",
    "# change email\n",
    "def change_email():\n",
    "    name = input('enter the name to change email address: ')\n",
    "    if name in contacts:\n",
    "        email = input('enter the new email address: ')\n",
    "        contacts[name] = email\n",
    "        print('email address updated.')\n",
    "    else:\n",
    "        print('name not found.')\n",
    "\n",
    "# delete contact\n",
    "def delete_contact():\n",
    "    name = input('enter the name to delete: ')\n",
    "    if name in contacts:\n",
    "        del contacts[name]\n",
    "        print('contact deleted.')\n",
    "    else:\n",
    "        print('name not found.')\n",
    "\n",
    "# main function to start execution\n",
    "def main():\n",
    "    while True:\n",
    "        display_menu()\n",
    "        choice = input('enter your choice (1/2/3/4/5): ')\n",
    "\n",
    "        if choice == '1':\n",
    "            lookup_email()\n",
    "        elif choice == '2':\n",
    "            add_contact()\n",
    "        elif choice == '3':\n",
    "            change_email()\n",
    "        elif choice == '4':\n",
    "            delete_contact()\n",
    "        elif choice == '5':\n",
    "      \n",
    "       # save dictionary to a file and exit with open ('contacts.pickle', 'wb') as file: pickle.dump(contacts, file)\n",
    "          print('contacts saved. exiting program.')\n",
    "        \n",
    "        break\n",
    "    else:\n",
    "         print('invalid choice. please select valid option')\n",
    "         \n",
    "if __name__ == '__main__':\n",
    "    main()"
   ]
  },
  {
   "cell_type": "code",
   "execution_count": 71,
   "id": "2d1df14f",
   "metadata": {},
   "outputs": [
    {
     "name": "stdout",
     "output_type": "stream",
     "text": [
      "\n",
      "Menu:\n",
      "1. look up an email address\n",
      "2. add a new contact\n",
      "3. change an email address\n",
      "4. delete a contact\n",
      "5. exit\n"
     ]
    },
    {
     "name": "stdin",
     "output_type": "stream",
     "text": [
      "enter your choice (1/2/3/4/5):  2\n",
      "enter the name:  averi\n",
      "enter the email address:  coopea23@mail.lcc.edu\n"
     ]
    },
    {
     "name": "stdout",
     "output_type": "stream",
     "text": [
      "contact added.[\n"
     ]
    }
   ],
   "source": [
    "import pickle\n",
    "import os\n",
    "\n",
    "# empty dictionary to store names and email addresses\n",
    "contacts = {}\n",
    "\n",
    "# check if the pickle file exists and load the dictionary if it does\n",
    "if os.path.exists('contacts.pickle'):\n",
    "    with open('contacts.pickle', 'rb') as file:\n",
    "        contacts = pickle.load(file)\n",
    "\n",
    "def display_menu():\n",
    "    print('\\nMenu:')\n",
    "    print('1. look up an email address')\n",
    "    print('2. add a new contact')\n",
    "    print('3. change an email address')\n",
    "    print('4. delete a contact')\n",
    "    print('5. exit')\n",
    "    \n",
    "def lookup_email():\n",
    "    name = input('enter the name to look up: ')\n",
    "   \n",
    "    if name in contacts:\n",
    "        print(f'Email Address: {contacts[name]}')\n",
    "    else:\n",
    "        print('name not found.')\n",
    "\n",
    "# add contact\n",
    "def add_contact():\n",
    "    name = input('enter the name: ')\n",
    "    email = input('enter the email address: ')\n",
    "    contacts[name] = email\n",
    "    print('contact added.[')\n",
    "\n",
    "# change email\n",
    "def change_email():\n",
    "    name = input('enter the name to change email address: ')\n",
    "    if name in contacts:\n",
    "        email = input('enter the new email address: ')\n",
    "        contacts[name] = email\n",
    "        print('email address updated.')\n",
    "    else:\n",
    "        print('name not found.')\n",
    "\n",
    "# delete contact\n",
    "def delete_contact():\n",
    "    name = input('enter the name to delete: ')\n",
    "    if name in contacts:\n",
    "        del contacts[name]\n",
    "        print('contact deleted.')\n",
    "    else:\n",
    "        print('name not found.')\n",
    "\n",
    "# main function to start execution\n",
    "def main():\n",
    "    while True:\n",
    "        display_menu()\n",
    "        choice = input('enter your choice (1/2/3/4/5): ')\n",
    "\n",
    "        if choice == '1':\n",
    "            lookup_email()\n",
    "        elif choice == '2':\n",
    "            add_contact()\n",
    "        elif choice == '3':\n",
    "            change_email()\n",
    "        elif choice == '4':\n",
    "            delete_contact()\n",
    "        elif choice == '5':\n",
    "      \n",
    "       # save dictionary to a file and exit with open ('contacts.pickle', 'wb') as file: pickle.dump(contacts, file)\n",
    "          print('contacts saved. exiting program.')\n",
    "        \n",
    "        break\n",
    "    else:\n",
    "         print('invalid choice. please select valid option')\n",
    "         \n",
    "if __name__ == '__main__':\n",
    "    main()"
   ]
  },
  {
   "cell_type": "code",
   "execution_count": 73,
   "id": "32350613-70c5-4d2a-b4a2-a8232f525f24",
   "metadata": {},
   "outputs": [],
   "source": [
    "import wordcount\n"
   ]
  },
  {
   "cell_type": "markdown",
   "id": "01a2b910-545b-4c57-ab2f-dfca3ff4ce11",
   "metadata": {},
   "source": [
    "Flow chart: "
   ]
  },
  {
   "cell_type": "markdown",
   "id": "b314de49-6893-4252-9466-56f67c06d44b",
   "metadata": {},
   "source": [
    "main\n",
    "├── check if 'contacts.pickle' file exists\n",
    "│   ├── load contacts dictionary from file (if exists)\n",
    "│\n",
    "├── display menu (1, 2, 3, 4, 5)\n",
    "│   ├── user input\n",
    "│   ├── if choice is 1\n",
    "│   │   ├── enter name\n",
    "│   │   ├── search dictionary\n",
    "│   │   ├── display email address\n",
    "│   │   └── back to menu\n",
    "│   ├── if choice is 2\n",
    "│   │   ├── enter name\n",
    "│   │   ├── enter email address\n",
    "│   │   ├── add to dictionary\n",
    "│   │   └── back to menu\n",
    "│   ├── if choice is 3\n",
    "│   │   ├── enter name\n",
    "│   │   ├── search dictionary\n",
    "│   │   ├── enter new email\n",
    "│   │   ├── update dictionary\n",
    "│   │   └── back to menu\n",
    "│   ├── if choice is 4\n",
    "│   │   ├── enter name\n",
    "│   │   ├── search dictionary\n",
    "│   │   ├── delete from dictionary\n",
    "│   │   └── back to menu\n",
    "│   ├── if choice is 5\n",
    "│   │   ├── save contacts to 'contacts.pickle' file\n",
    "│   │   └── end\n"
   ]
  },
  {
   "cell_type": "markdown",
   "id": "e5b2dd65-f5e9-4c2b-8af7-447e69df59c3",
   "metadata": {},
   "source": []
  }
 ],
 "metadata": {
  "kernelspec": {
   "display_name": "anaconda-2022.05-py39",
   "language": "python",
   "name": "conda-env-anaconda-2022.05-py39-py"
  },
  "language_info": {
   "codemirror_mode": {
    "name": "ipython",
    "version": 3
   },
   "file_extension": ".py",
   "mimetype": "text/x-python",
   "name": "python",
   "nbconvert_exporter": "python",
   "pygments_lexer": "ipython3",
   "version": "3.9.12"
  }
 },
 "nbformat": 4,
 "nbformat_minor": 5
}
