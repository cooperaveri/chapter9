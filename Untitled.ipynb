{
 "cells": [
  {
   "cell_type": "markdown",
   "id": "203dc6a4-2b0a-4432-87b3-1c673e0b4b28",
   "metadata": {},
   "source": [
    "Chapter 9"
   ]
  },
  {
   "cell_type": "markdown",
   "id": "977ae2fe-f804-458e-aa48-1ad34e1c9ab0",
   "metadata": {},
   "source": [
    "Program Exercises 8"
   ]
  },
  {
   "cell_type": "markdown",
   "id": "2338a203-95f0-40d1-aff3-e292b95c3ca0",
   "metadata": {},
   "source": [
    "# 8. write a program that keeps names and email addresses in a dictionary as key-value pairs, the program should display a menu that lets the user look up a persons email address, add a new name and email address, change an existing email address, and delete an existing name and email address. the program should pickle t"
   ]
  }
 ],
 "metadata": {
  "kernelspec": {
   "display_name": "anaconda-2022.05-py39",
   "language": "python",
   "name": "conda-env-anaconda-2022.05-py39-py"
  },
  "language_info": {
   "codemirror_mode": {
    "name": "ipython",
    "version": 3
   },
   "file_extension": ".py",
   "mimetype": "text/x-python",
   "name": "python",
   "nbconvert_exporter": "python",
   "pygments_lexer": "ipython3",
   "version": "3.9.12"
  }
 },
 "nbformat": 4,
 "nbformat_minor": 5
}
