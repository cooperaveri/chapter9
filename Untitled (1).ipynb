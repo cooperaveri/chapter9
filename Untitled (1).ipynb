{
 "cells": [
  {
   "cell_type": "markdown",
   "id": "203dc6a4-2b0a-4432-87b3-1c673e0b4b28",
   "metadata": {},
   "source": [
    "Chapter 9"
   ]
  },
  {
   "cell_type": "markdown",
   "id": "977ae2fe-f804-458e-aa48-1ad34e1c9ab0",
   "metadata": {},
   "source": [
    "Program Exercises 8"
   ]
  },
  {
   "cell_type": "markdown",
   "id": "2338a203-95f0-40d1-aff3-e292b95c3ca0",
   "metadata": {},
   "source": [
    "# 8. write a program that keeps names and email addresses in a dictionary as key-value pairs, the program should display a menu that lets the user look up a persons email address, add a new name and email address, change an existing email address, and delete an existing name and email address. the program should pickle the dictionary and save it to a file when the user exits the program. each time the program starts,it should retrieve the dictionary from the file and unpickle it."
   ]
  },
  {
   "cell_type": "code",
   "execution_count": 16,
   "id": "16c7bd79-a148-4b02-a347-c5c3a5b04c21",
   "metadata": {},
   "outputs": [],
   "source": [
    "import pickle\n",
    "import os\n",
    "\n",
    "# empty dictionary to store names and email addresses\n",
    "contacts = {}\n",
    "\n",
    "# check if the pickle file exists and load the dictionary if it does\n",
    "if os.path.exists('contacts.pickle'):\n",
    "    with open('contacts.pickle', 'rb') as file:\n",
    "        contacts = pickle.load(file)\n",
    "\n",
    "def display_menu():\n",
    "    print('\\nMenu:')\n",
    "    print('1. look up an email address')\n",
    "    print('2. add a new contact')\n",
    "    print('3. change an email address')\n",
    "    print('4. delete a contact')\n",
    "    print('5. exit')\n",
    "    \n",
    "    def lookup_email():\n",
    "    name = input('enter the name to look up: ')\n",
    "    if name in contacts:\n",
    "        print(f'Email Address: {contacts[name]}')\n",
    "    else:\n",
    "        print('name not found.')\n",
    "\n",
    "def add_contact():\n",
    "    name = input('enter the name: ')\n",
    "    email = input(;'enter the email address: ')\n",
    "    contacts[name] = email\n",
    "    print('contact added.[')\n",
    "\n",
    "def change_email():\n",
    "    name = input('enter the name to change email address: \")\n",
    "    if name in contacts:\n",
    "        email = input(\"Enter the new email address: \")\n",
    "        contacts[name] = email\n",
    "        print(\"Email address updated.\")\n",
    "    else:\n",
    "        print(\"Name not found.\")\n",
    "\n",
    "def delete_contact():\n",
    "    name = input(\"Enter the name to delete: \")\n",
    "    if name in contacts:\n",
    "        del contacts[name]\n",
    "        print(\"Contact deleted.\")\n",
    "    else:\n",
    "        print(\"Name not found.\")\n",
    "\n"
   ]
  },
  {
   "cell_type": "code",
   "execution_count": 16,
   "id": "023ae775",
   "metadata": {},
   "outputs": [],
   "source": [
    "import pickle\n",
    "import os\n",
    "\n",
    "# empty dictionary to store names and email addresses\n",
    "contacts = {}\n",
    "\n",
    "# check if the pickle file exists and load the dictionary if it does\n",
    "if os.path.exists('contacts.pickle'):\n",
    "    with open('contacts.pickle', 'rb') as file:\n",
    "        contacts = pickle.load(file)\n",
    "\n",
    "def display_menu():\n",
    "    print('\\nMenu:')\n",
    "    print('1. look up an email address')\n",
    "    print('2. add a new contact')\n",
    "    print('3. change an email address')\n",
    "    print('4. delete a contact')\n",
    "    print('5. exit')\n",
    "    \n",
    "    def lookup_email():\n",
    "    name = input('enter the name to look up: ')\n",
    "    if name in contacts:\n",
    "        print(f'Email Address: {contacts[name]}')\n",
    "    else:\n",
    "        print('name not found.')\n",
    "\n",
    "def add_contact():\n",
    "    name = input('enter the name: ')\n",
    "    email = input(;'enter the email address: ')\n",
    "    contacts[name] = email\n",
    "    print('contact added.[')\n",
    "\n",
    "def change_email():\n",
    "    name = input('enter the name to change email address: \")\n",
    "    if name in contacts:\n",
    "        email = input(\"Enter the new email address: \")\n",
    "        contacts[name] = email\n",
    "        print(\"Email address updated.\")\n",
    "    else:\n",
    "        print(\"Name not found.\")\n",
    "\n",
    "def delete_contact():\n",
    "    name = input(\"Enter the name to delete: \")\n",
    "    if name in contacts:\n",
    "        del contacts[name]\n",
    "        print(\"Contact deleted.\")\n",
    "    else:\n",
    "        print(\"Name not found.\")\n",
    "\n"
   ]
  },
  {
   "cell_type": "code",
   "execution_count": null,
   "id": "32350613-70c5-4d2a-b4a2-a8232f525f24",
   "metadata": {},
   "outputs": [],
   "source": []
  }
 ],
 "metadata": {
  "kernelspec": {
   "display_name": "anaconda-2022.05-py39",
   "language": "python",
   "name": "conda-env-anaconda-2022.05-py39-py"
  },
  "language_info": {
   "codemirror_mode": {
    "name": "ipython",
    "version": 3
   },
   "file_extension": ".py",
   "mimetype": "text/x-python",
   "name": "python",
   "nbconvert_exporter": "python",
   "pygments_lexer": "ipython3",
   "version": "3.9.12"
  }
 },
 "nbformat": 4,
 "nbformat_minor": 5
}
